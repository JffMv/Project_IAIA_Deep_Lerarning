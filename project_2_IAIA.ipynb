{
  "cells": [
    {
      "cell_type": "markdown",
      "id": "38830dab",
      "metadata": {
        "id": "38830dab"
      },
      "source": [
        "# Forward"
      ]
    },
    {
      "cell_type": "code",
      "execution_count": null,
      "id": "30d94ce9-9b30-4047-bfc7-16619caf7dae",
      "metadata": {
        "colab": {
          "base_uri": "https://localhost:8080/"
        },
        "id": "30d94ce9-9b30-4047-bfc7-16619caf7dae",
        "outputId": "6cfc3535-2167-4eac-de00-37fab5629a15"
      },
      "outputs": [
        {
          "output_type": "stream",
          "name": "stdout",
          "text": [
            "Requirement already satisfied: numpy in /usr/local/lib/python3.10/dist-packages (1.23.5)\n"
          ]
        }
      ],
      "source": [
        "!pip install numpy\n",
        "import sys"
      ]
    },
    {
      "cell_type": "code",
      "execution_count": null,
      "id": "KrSnImR5mnj5",
      "metadata": {
        "id": "KrSnImR5mnj5"
      },
      "outputs": [],
      "source": [
        "from numpy import random\n",
        "import numpy as np\n",
        "from IPython.core.interactiveshell import InteractiveShell\n",
        "InteractiveShell.ast_node_interactivity = \"all\""
      ]
    },
    {
      "cell_type": "code",
      "execution_count": null,
      "id": "cTR9iyd4o61A",
      "metadata": {
        "id": "cTR9iyd4o61A"
      },
      "outputs": [],
      "source": [
        "def initialize_parameters(layers):\n",
        "  parameters = {}\n",
        "  for i in range(len(layers)):\n",
        "    if i > 0:\n",
        "      parameters[\"W\" + str(i)] = np.random.randn(layers[i],layers[i-1]) * 0.01\n",
        "      parameters[\"b\" + str(i)] = np.zeros((layers[i],1))\n",
        "  return parameters"
      ]
    },
    {
      "cell_type": "code",
      "execution_count": null,
      "id": "de2db6b1",
      "metadata": {
        "colab": {
          "base_uri": "https://localhost:8080/",
          "height": 280
        },
        "id": "de2db6b1",
        "outputId": "19fa27f0-2928-4add-a87a-429b2b577542"
      },
      "outputs": [
        {
          "output_type": "execute_result",
          "data": {
            "text/plain": [
              "'Testing initialize_parameters (DeepLearningSpecializationCoursera)'"
            ],
            "application/vnd.google.colaboratory.intrinsic+json": {
              "type": "string"
            }
          },
          "metadata": {},
          "execution_count": 8
        },
        {
          "output_type": "execute_result",
          "data": {
            "text/plain": [
              "'Test # 1'"
            ],
            "application/vnd.google.colaboratory.intrinsic+json": {
              "type": "string"
            }
          },
          "metadata": {},
          "execution_count": 8
        },
        {
          "output_type": "execute_result",
          "data": {
            "text/plain": [
              "'W1 b1'"
            ],
            "application/vnd.google.colaboratory.intrinsic+json": {
              "type": "string"
            }
          },
          "metadata": {},
          "execution_count": 8
        },
        {
          "output_type": "execute_result",
          "data": {
            "text/plain": [
              "array([[ 0.01624345, -0.00611756, -0.00528172],\n",
              "       [-0.01072969,  0.00865408, -0.02301539]])"
            ]
          },
          "metadata": {},
          "execution_count": 8
        },
        {
          "output_type": "execute_result",
          "data": {
            "text/plain": [
              "array([[0.],\n",
              "       [0.]])"
            ]
          },
          "metadata": {},
          "execution_count": 8
        },
        {
          "output_type": "execute_result",
          "data": {
            "text/plain": [
              "'W2 b2'"
            ],
            "application/vnd.google.colaboratory.intrinsic+json": {
              "type": "string"
            }
          },
          "metadata": {},
          "execution_count": 8
        },
        {
          "output_type": "execute_result",
          "data": {
            "text/plain": [
              "array([[ 0.01744812, -0.00761207]])"
            ]
          },
          "metadata": {},
          "execution_count": 8
        },
        {
          "output_type": "execute_result",
          "data": {
            "text/plain": [
              "array([[0.]])"
            ]
          },
          "metadata": {},
          "execution_count": 8
        },
        {
          "output_type": "execute_result",
          "data": {
            "text/plain": [
              "'Test # 2'"
            ],
            "application/vnd.google.colaboratory.intrinsic+json": {
              "type": "string"
            }
          },
          "metadata": {},
          "execution_count": 8
        },
        {
          "output_type": "execute_result",
          "data": {
            "text/plain": [
              "'W1 b1'"
            ],
            "application/vnd.google.colaboratory.intrinsic+json": {
              "type": "string"
            }
          },
          "metadata": {},
          "execution_count": 8
        },
        {
          "output_type": "execute_result",
          "data": {
            "text/plain": [
              "array([[ 0.01788628,  0.0043651 ,  0.00096497, -0.01863493, -0.00277388],\n",
              "       [-0.00354759, -0.00082741, -0.00627001, -0.00043818, -0.00477218],\n",
              "       [-0.01313865,  0.00884622,  0.00881318,  0.01709573,  0.00050034],\n",
              "       [-0.00404677, -0.0054536 , -0.01546477,  0.00982367, -0.01101068]])"
            ]
          },
          "metadata": {},
          "execution_count": 8
        },
        {
          "output_type": "execute_result",
          "data": {
            "text/plain": [
              "array([[0.],\n",
              "       [0.],\n",
              "       [0.],\n",
              "       [0.]])"
            ]
          },
          "metadata": {},
          "execution_count": 8
        },
        {
          "output_type": "execute_result",
          "data": {
            "text/plain": [
              "'W2 b2'"
            ],
            "application/vnd.google.colaboratory.intrinsic+json": {
              "type": "string"
            }
          },
          "metadata": {},
          "execution_count": 8
        },
        {
          "output_type": "execute_result",
          "data": {
            "text/plain": [
              "array([[-0.01185047, -0.0020565 ,  0.01486148,  0.00236716],\n",
              "       [-0.01023785, -0.00712993,  0.00625245, -0.00160513],\n",
              "       [-0.00768836, -0.00230031,  0.00745056,  0.01976111]])"
            ]
          },
          "metadata": {},
          "execution_count": 8
        },
        {
          "output_type": "execute_result",
          "data": {
            "text/plain": [
              "array([[0.],\n",
              "       [0.],\n",
              "       [0.]])"
            ]
          },
          "metadata": {},
          "execution_count": 8
        }
      ],
      "source": [
        "'Testing initialize_parameters (DeepLearningSpecializationCoursera)'\n",
        "'Test # 1'\n",
        "np.random.seed(1)\n",
        "parameters = initialize_parameters([3,2,1])\n",
        "'W1 b1'\n",
        "parameters['W1']\n",
        "assert parameters['W1'].shape==(2,3), \"W1. Wrong size\"\n",
        "assert np.all(np.isclose(parameters['W1'],\n",
        "                         [[ 0.01624345, -0.00611756, -0.00528172], [-0.01072969 ,0.00865408, -0.02301539]])), \"W1. Wrong values\"\n",
        "\n",
        "parameters['b1']\n",
        "assert parameters['b1'].shape==(2,1), \"b1. Wrong size\"\n",
        "assert np.all(np.isclose(parameters['b1'], [[ 0.], [ 0.]])), \"b1. Wrong values\"\n",
        "'W2 b2'\n",
        "parameters['W2']\n",
        "assert parameters['W2'].shape==(1,2), \"W2. Wrong size\"\n",
        "assert np.all(np.isclose(parameters['W2'], [[ 0.01744812, -0.00761207]])), \"W2. Wrong values\"\n",
        "parameters['b2']\n",
        "assert parameters['b2'].shape==(1,1), \"b2. Wrong size\"\n",
        "\n",
        "assert np.all(np.isclose(parameters['b2'], [[ 0.]])), \"b2. Wrong values\"\n",
        "'Test # 2'\n",
        "np.random.seed(3)\n",
        "parameters = initialize_parameters([5,4,3])\n",
        "'W1 b1'\n",
        "parameters['W1']\n",
        "assert parameters['W1'].shape==(4,5), \"W1. Wrong size\"\n",
        "assert np.all(np.isclose(parameters['W1'],\n",
        "                        [[ 0.01788628,  0.0043651,   0.00096497, -0.01863493, -0.00277388],\n",
        " [-0.00354759, -0.00082741, -0.00627001, -0.00043818, -0.00477218],\n",
        " [-0.01313865,  0.00884622,  0.00881318,  0.01709573,  0.00050034],\n",
        " [-0.00404677, -0.0054536,  -0.01546477,  0.00982367, -0.01101068]])), \"W1. Wrong values\"\n",
        "\n",
        "parameters['b1']\n",
        "assert parameters['b1'].shape==(4,1), \"b1. Wrong size\"\n",
        "assert np.all(np.isclose(parameters['b1'], [[ 0.], [ 0.], [ 0.], [ 0.]])), \"b1. Wrong values\"\n",
        "'W2 b2'\n",
        "parameters['W2']\n",
        "assert parameters['W2'].shape==(3,4), \"W2. Wrong size\"\n",
        "assert np.all(np.isclose(parameters['W2'],\n",
        "                        [[-0.01185047, -0.0020565,   0.01486148,  0.00236716],\n",
        " [-0.01023785, -0.00712993,  0.00625245, -0.00160513],\n",
        " [-0.00768836, -0.00230031,  0.00745056,  0.01976111]])), \"W2. Wrong values\"\n",
        "\n",
        "parameters['b2']\n",
        "assert parameters['b2'].shape==(3,1), \"b2. Wrong size\"\n",
        "assert np.all(np.isclose(parameters['b2'], [[ 0.], [ 0.], [ 0.]])), \"b2. Wrong values\""
      ]
    },
    {
      "cell_type": "code",
      "execution_count": null,
      "id": "Zadjy9B5yq02",
      "metadata": {
        "id": "Zadjy9B5yq02"
      },
      "outputs": [],
      "source": [
        "def forward_step(A_1,W, b):\n",
        "  z= W@A_1+b\n",
        "  A = 1/(1+np.exp(-z))\n",
        "  return A, (A_1, W, A)"
      ]
    },
    {
      "cell_type": "code",
      "execution_count": null,
      "id": "c57ba50a",
      "metadata": {
        "colab": {
          "base_uri": "https://localhost:8080/",
          "height": 35
        },
        "id": "c57ba50a",
        "outputId": "f63770b4-b13a-45d5-aaaf-5ad07c36c425"
      },
      "outputs": [
        {
          "output_type": "execute_result",
          "data": {
            "text/plain": [
              "'Testing forward_step (DeepLearningSpecializationCoursera)'"
            ],
            "application/vnd.google.colaboratory.intrinsic+json": {
              "type": "string"
            }
          },
          "metadata": {},
          "execution_count": 6
        },
        {
          "output_type": "execute_result",
          "data": {
            "text/plain": [
              "'Test # 1: Sigmoid'"
            ],
            "application/vnd.google.colaboratory.intrinsic+json": {
              "type": "string"
            }
          },
          "metadata": {},
          "execution_count": 6
        },
        {
          "output_type": "execute_result",
          "data": {
            "text/plain": [
              "'A'"
            ],
            "application/vnd.google.colaboratory.intrinsic+json": {
              "type": "string"
            }
          },
          "metadata": {},
          "execution_count": 6
        },
        {
          "output_type": "execute_result",
          "data": {
            "text/plain": [
              "array([[0.96890023, 0.11013289]])"
            ]
          },
          "metadata": {},
          "execution_count": 6
        },
        {
          "output_type": "execute_result",
          "data": {
            "text/plain": [
              "'Test # 2: Sigmoid'"
            ],
            "application/vnd.google.colaboratory.intrinsic+json": {
              "type": "string"
            }
          },
          "metadata": {},
          "execution_count": 6
        },
        {
          "output_type": "execute_result",
          "data": {
            "text/plain": [
              "'A'"
            ],
            "application/vnd.google.colaboratory.intrinsic+json": {
              "type": "string"
            }
          },
          "metadata": {},
          "execution_count": 6
        },
        {
          "output_type": "execute_result",
          "data": {
            "text/plain": [
              "array([[0.41196173, 0.288529  ]])"
            ]
          },
          "metadata": {},
          "execution_count": 6
        }
      ],
      "source": [
        "'Testing forward_step (DeepLearningSpecializationCoursera)'\n",
        "np.random.seed(2)\n",
        "'Test # 1: Sigmoid'\n",
        "A_1 = np.random.randn(3,2)\n",
        "W = np.random.randn(1,3)\n",
        "b = np.random.randn(1,1)\n",
        "A, cache = forward_step(A_1, W, b)\n",
        "'A'\n",
        "A\n",
        "assert A.shape==(1,2), \"A. Wrong size\"\n",
        "assert np.all(np.isclose(A, [[ 0.96890023, 0.11013289]])), \"A. Wrong values\"\n",
        "'Test # 2: Sigmoid'\n",
        "A_1 = np.random.randn(3,2)\n",
        "W = np.random.randn(1,3)\n",
        "b = np.random.randn(1,1)\n",
        "A, cache = forward_step(A_1, W, b)\n",
        "'A'\n",
        "A\n",
        "assert A.shape==(1,2), \"A. Wrong size\"\n",
        "assert np.all(np.isclose(A, [[0.41196173, 0.288529  ]])), \"A. Wrong values\""
      ]
    },
    {
      "cell_type": "code",
      "execution_count": null,
      "id": "wJyqOgUH34db",
      "metadata": {
        "id": "wJyqOgUH34db"
      },
      "outputs": [],
      "source": [
        "def forward(X,parameters):\n",
        "  A = X\n",
        "  caches = []\n",
        "  for i in range(len(parameters)//2):\n",
        "    A,cacheCapa = forward_step(A,parameters[\"W\" + str(i+1)], parameters[\"b\" + str(i+1)])\n",
        "    caches.append(cacheCapa)\n",
        "  return A, caches"
      ]
    },
    {
      "cell_type": "code",
      "execution_count": null,
      "id": "e37dad40",
      "metadata": {
        "colab": {
          "base_uri": "https://localhost:8080/",
          "height": 54
        },
        "id": "e37dad40",
        "outputId": "40bf4eb6-da19-4cd5-8d3f-a2fd3cbd67fc"
      },
      "outputs": [
        {
          "output_type": "execute_result",
          "data": {
            "text/plain": [
              "'Testing forward (DeepLearningSpecializationCoursera)'"
            ],
            "application/vnd.google.colaboratory.intrinsic+json": {
              "type": "string"
            }
          },
          "metadata": {},
          "execution_count": 6
        },
        {
          "output_type": "execute_result",
          "data": {
            "text/plain": [
              "'AL'"
            ],
            "application/vnd.google.colaboratory.intrinsic+json": {
              "type": "string"
            }
          },
          "metadata": {},
          "execution_count": 6
        },
        {
          "output_type": "execute_result",
          "data": {
            "text/plain": [
              "array([[0.55865298, 0.52006807, 0.51071853, 0.53912084]])"
            ]
          },
          "metadata": {},
          "execution_count": 6
        },
        {
          "output_type": "execute_result",
          "data": {
            "text/plain": [
              "'Caches'"
            ],
            "application/vnd.google.colaboratory.intrinsic+json": {
              "type": "string"
            }
          },
          "metadata": {},
          "execution_count": 6
        },
        {
          "output_type": "execute_result",
          "data": {
            "text/plain": [
              "3"
            ]
          },
          "metadata": {},
          "execution_count": 6
        }
      ],
      "source": [
        "'Testing forward (DeepLearningSpecializationCoursera)'\n",
        "np.random.seed(6)\n",
        "X = np.random.randn(5,4)\n",
        "parameters={}\n",
        "parameters['W1'] = np.random.randn(4,5)\n",
        "parameters['b1'] = np.random.randn(4,1)\n",
        "parameters['W2'] = np.random.randn(3,4)\n",
        "parameters['b2'] = np.random.randn(3,1)\n",
        "parameters['W3'] = np.random.randn(1,3)\n",
        "parameters['b3'] = np.random.randn(1,1)\n",
        "AL,caches=forward(X, parameters)\n",
        "'AL'\n",
        "AL\n",
        "assert AL.shape==(1,4), \"AL. Wrong size\"\n",
        "assert np.all(np.isclose(AL,[[0.55865298, 0.52006807, 0.51071853, 0.53912084]])), \"AL. Wrong values\"\n",
        "'Caches'\n",
        "len(caches)\n",
        "assert len(caches)==3, \"Caches. Wrong size\""
      ]
    },
    {
      "cell_type": "code",
      "execution_count": null,
      "id": "GB80P7_i7Q8X",
      "metadata": {
        "id": "GB80P7_i7Q8X"
      },
      "outputs": [],
      "source": [
        "def predict(X,parameters):\n",
        "  A = X\n",
        "  for i in range(len(parameters)//2):\n",
        "    A,cacheCapa = forward_step(A,parameters[\"W\" + str(i+1)], parameters[\"b\" + str(i+1)])\n",
        "  return A"
      ]
    },
    {
      "cell_type": "code",
      "execution_count": null,
      "id": "7df2b9b6",
      "metadata": {
        "colab": {
          "base_uri": "https://localhost:8080/",
          "height": 35
        },
        "id": "7df2b9b6",
        "outputId": "83172aff-f476-4b73-9e64-245088600398"
      },
      "outputs": [
        {
          "output_type": "execute_result",
          "data": {
            "text/plain": [
              "'Testing predict (DeepLearningSpecializationCoursera)'"
            ],
            "application/vnd.google.colaboratory.intrinsic+json": {
              "type": "string"
            }
          },
          "metadata": {},
          "execution_count": 10
        },
        {
          "output_type": "execute_result",
          "data": {
            "text/plain": [
              "'Yp'"
            ],
            "application/vnd.google.colaboratory.intrinsic+json": {
              "type": "string"
            }
          },
          "metadata": {},
          "execution_count": 10
        },
        {
          "output_type": "execute_result",
          "data": {
            "text/plain": [
              "array([[0.55865298, 0.52006807, 0.51071853, 0.53912084]])"
            ]
          },
          "metadata": {},
          "execution_count": 10
        }
      ],
      "source": [
        "'Testing predict (DeepLearningSpecializationCoursera)'\n",
        "np.random.seed(6)\n",
        "X = np.random.randn(5,4)\n",
        "parameters={}\n",
        "parameters['W1'] = np.random.randn(4,5)\n",
        "parameters['b1'] = np.random.randn(4,1)\n",
        "parameters['W2'] = np.random.randn(3,4)\n",
        "parameters['b2'] = np.random.randn(3,1)\n",
        "parameters['W3'] = np.random.randn(1,3)\n",
        "parameters['b3'] = np.random.randn(1,1)\n",
        "Yp=predict(X, parameters)\n",
        "'Yp'\n",
        "Yp\n",
        "assert Yp.shape==(1,4), \"Yp. Wrong size\"\n",
        "assert np.all(np.isclose(Yp,[[0.55865298, 0.52006807, 0.51071853, 0.53912084]])), \"Yp. Wrong values\""
      ]
    },
    {
      "cell_type": "code",
      "execution_count": null,
      "id": "z0XBhL1J7OfB",
      "metadata": {
        "id": "z0XBhL1J7OfB"
      },
      "outputs": [],
      "source": [
        "def accuracy_1(X,Y,parameters):\n",
        "    A = predict(X,parameters)\n",
        "    loss = np.mean(np.where((Y-A)*(Y-A)))\n",
        "    if(loss >= 0.5): loss = 1\n",
        "    return loss"
      ]
    },
    {
      "cell_type": "code",
      "source": [
        "def accuracy (X, Y, parameters):\n",
        "  AL = predict(X, parameters)\n",
        "  accuracy = np.mean(np.where((abs(AL-Y)) <= 0.2,1,0))\n",
        "  return accuracy"
      ],
      "metadata": {
        "id": "YQjRyc3qgafm"
      },
      "id": "YQjRyc3qgafm",
      "execution_count": null,
      "outputs": []
    },
    {
      "cell_type": "code",
      "execution_count": null,
      "id": "b41f438a",
      "metadata": {
        "id": "b41f438a",
        "outputId": "22b2e149-cd64-4ae7-f2f8-d1dc946e8a36",
        "colab": {
          "base_uri": "https://localhost:8080/",
          "height": 35
        }
      },
      "outputs": [
        {
          "output_type": "execute_result",
          "data": {
            "text/plain": [
              "'Testing accuracy'"
            ],
            "application/vnd.google.colaboratory.intrinsic+json": {
              "type": "string"
            }
          },
          "metadata": {},
          "execution_count": 44
        },
        {
          "output_type": "execute_result",
          "data": {
            "text/plain": [
              "1.0"
            ]
          },
          "metadata": {},
          "execution_count": 44
        }
      ],
      "source": [
        "'Testing accuracy'\n",
        "np.random.seed(6)\n",
        "X = np.random.randn(5,4)\n",
        "Y = np.zeros(4)\n",
        "parameters={}\n",
        "parameters['W1'] = np.random.randn(4,5)\n",
        "parameters['b1'] = np.random.randn(4,1)\n",
        "parameters['W2'] = np.random.randn(3,4)\n",
        "parameters['b2'] = np.random.randn(3,1)\n",
        "parameters['W3'] = np.random.randn(1,3)\n",
        "parameters['b3'] = np.random.randn(1,1)\n",
        "\n",
        "accuracy (X, Y, parameters)\n",
        "assert accuracy (X, Y, parameters)==1, \"Wrong value\""
      ]
    },
    {
      "cell_type": "markdown",
      "id": "2eabcb53",
      "metadata": {
        "id": "2eabcb53"
      },
      "source": [
        "# Backward"
      ]
    },
    {
      "cell_type": "code",
      "execution_count": null,
      "id": "2b4a147c-8612-42c1-a84f-5781934cc454",
      "metadata": {
        "id": "2b4a147c-8612-42c1-a84f-5781934cc454"
      },
      "outputs": [],
      "source": [
        "def cost(Yp,Y):\n",
        "    return np.mean(-(Y*np.log(Yp + sys.float_info.epsilon) + (1-Y) * np.log(1-Yp+ sys.float_info.epsilon)))"
      ]
    },
    {
      "cell_type": "code",
      "execution_count": null,
      "id": "75fb9a70",
      "metadata": {
        "id": "75fb9a70",
        "outputId": "dfb714b3-867f-4d52-9598-78917787eeaa",
        "colab": {
          "base_uri": "https://localhost:8080/",
          "height": 35
        }
      },
      "outputs": [
        {
          "output_type": "execute_result",
          "data": {
            "text/plain": [
              "'Testing cost (DeepLearningSpecializationCoursera)'"
            ],
            "application/vnd.google.colaboratory.intrinsic+json": {
              "type": "string"
            }
          },
          "metadata": {},
          "execution_count": 17
        },
        {
          "output_type": "execute_result",
          "data": {
            "text/plain": [
              "0.27977656357934194"
            ]
          },
          "metadata": {},
          "execution_count": 17
        }
      ],
      "source": [
        "'Testing cost (DeepLearningSpecializationCoursera)'\n",
        "Y = np.array([[1, 1, 0]])\n",
        "Yp = np.array([[.8,.9,0.4]])\n",
        "cost(Yp,Y)\n",
        "assert np.isclose(cost(Yp,Y),0.2797765635793422), \"BinaryCrossEntropy. Wrong values\""
      ]
    },
    {
      "cell_type": "code",
      "execution_count": null,
      "id": "6f66da1d-3775-4e37-9327-29a6f13c98f1",
      "metadata": {
        "id": "6f66da1d-3775-4e37-9327-29a6f13c98f1"
      },
      "outputs": [],
      "source": [
        "def backward_step(dA, cache):\n",
        "    A_1,W, A = cache\n",
        "    dZ = dA * A * (1 - A)\n",
        "    m = A_1.shape[1]\n",
        "    dA_1 = W.T@dZ\n",
        "    dW = (1/m) * (dZ@A_1.T)\n",
        "    db = (1/m) * np.sum(dZ, axis=1, keepdims=True)\n",
        "    return dA_1, dW, db\n",
        "\n"
      ]
    },
    {
      "cell_type": "code",
      "execution_count": null,
      "id": "9d383ea2",
      "metadata": {
        "id": "9d383ea2",
        "outputId": "3bdbee5d-9ea5-49c8-c40a-bd1a772f8867",
        "colab": {
          "base_uri": "https://localhost:8080/",
          "height": 87
        }
      },
      "outputs": [
        {
          "output_type": "execute_result",
          "data": {
            "text/plain": [
              "'Testing backward_step (DeepLearningSpecializationCoursera)'"
            ],
            "application/vnd.google.colaboratory.intrinsic+json": {
              "type": "string"
            }
          },
          "metadata": {},
          "execution_count": 19
        },
        {
          "output_type": "execute_result",
          "data": {
            "text/plain": [
              "'Test #1: Sigmoid dA_1, dW, db'"
            ],
            "application/vnd.google.colaboratory.intrinsic+json": {
              "type": "string"
            }
          },
          "metadata": {},
          "execution_count": 19
        },
        {
          "output_type": "execute_result",
          "data": {
            "text/plain": [
              "array([[ 0.11017994,  0.01105339],\n",
              "       [ 0.09466817,  0.00949723],\n",
              "       [-0.05743092, -0.00576154]])"
            ]
          },
          "metadata": {},
          "execution_count": 19
        },
        {
          "output_type": "execute_result",
          "data": {
            "text/plain": [
              "array([[ 0.10266786,  0.09778551, -0.01968084]])"
            ]
          },
          "metadata": {},
          "execution_count": 19
        },
        {
          "output_type": "execute_result",
          "data": {
            "text/plain": [
              "array([[-0.05729622]])"
            ]
          },
          "metadata": {},
          "execution_count": 19
        }
      ],
      "source": [
        "'Testing backward_step (DeepLearningSpecializationCoursera)'\n",
        "np.random.seed(2)\n",
        "'Test #1: Sigmoid dA_1, dW, db'\n",
        "dA = np.random.randn(1,2)\n",
        "A_1 = np.random.randn(3,2)\n",
        "W = np.random.randn(1,3)\n",
        "b = np.random.randn(1,1)\n",
        "Z = np.random.randn(1,2)\n",
        "A = (1/(1+np.exp(-Z)))\n",
        "\n",
        "cache = (A_1,W, A)\n",
        "dA_1, dW, db = backward_step(dA, cache)\n",
        "dA_1\n",
        "assert dA_1.shape==(3,2), \"A. Wrong size\"\n",
        "assert np.all(np.isclose(dA_1, [[ 0.11017994,  0.01105339],\n",
        "                             [ 0.09466817,  0.00949723],\n",
        "                             [-0.05743092, -0.00576154]])), \"dA_1. Wrong values\"\n",
        "dW\n",
        "assert dW.shape==(1,3), \"dW. Wrong size\"\n",
        "assert np.all(np.isclose(dW, [[ 0.10266786,  0.09778551, -0.01968084]])), \"dW. Wrong values\"\n",
        "db\n",
        "assert db.shape==(1,1), \"db. Wrong size\"\n",
        "assert np.all(np.isclose(db, [[-0.05729622]])), \"db. Wrong values\"\n"
      ]
    },
    {
      "cell_type": "code",
      "execution_count": null,
      "id": "01d49763-2c86-45ff-b174-53e37585694d",
      "metadata": {
        "id": "01d49763-2c86-45ff-b174-53e37585694d"
      },
      "outputs": [],
      "source": [
        "def backward(AL, Y, caches):\n",
        "    numero_capas = len(caches)\n",
        "    grads = {}\n",
        "    currentCache = caches[numero_capas - 1]\n",
        "    dAL = -(np.divide(Y, AL + 1e-12) - np.divide(1 - Y, 1 - AL +  1e-12))\n",
        "    dA_1,grads[\"dW\" + str(numero_capas)], grads[\"db\" + str(numero_capas)] = backward_step(dAL,currentCache)\n",
        "    for l in reversed(range(numero_capas - 1)):\n",
        "        currentCache = caches[l]\n",
        "        dA_1,grads[\"dW\" + str(l+1)], grads[\"db\" + str(l+1)] = backward_step(dA_1,currentCache)\n",
        "    return grads\n",
        "\n",
        "\n"
      ]
    },
    {
      "cell_type": "code",
      "execution_count": null,
      "id": "1d737872",
      "metadata": {
        "id": "1d737872",
        "outputId": "0ba3d381-6e8c-4a27-e2b6-095b64e8d3b3",
        "colab": {
          "base_uri": "https://localhost:8080/",
          "height": 105
        }
      },
      "outputs": [
        {
          "output_type": "execute_result",
          "data": {
            "text/plain": [
              "'Testing backward'"
            ],
            "application/vnd.google.colaboratory.intrinsic+json": {
              "type": "string"
            }
          },
          "metadata": {},
          "execution_count": 25
        },
        {
          "output_type": "execute_result",
          "data": {
            "text/plain": [
              "array([[-0.00100175, -0.09968066, -0.03909226, -0.02330927],\n",
              "       [ 0.96094749, -0.67576359, -0.01117241,  0.04711791],\n",
              "       [ 0.02755101,  0.0423293 ,  0.02371575,  0.01564826]])"
            ]
          },
          "metadata": {},
          "execution_count": 25
        },
        {
          "output_type": "execute_result",
          "data": {
            "text/plain": [
              "array([[ 0.35434572],\n",
              "       [ 2.53806384],\n",
              "       [-0.14666465]])"
            ]
          },
          "metadata": {},
          "execution_count": 25
        }
      ],
      "source": [
        "'Testing backward'\n",
        "np.random.seed(3)\n",
        "AL = np.random.randn(1, 2)\n",
        "Y = np.array([[1, 0]])\n",
        "\n",
        "A_1 = np.random.randn(4,2)\n",
        "W1 = np.random.randn(3,4)\n",
        "A1 = np.random.randn(3,2)\n",
        "cache_1= (A_1, W1, A1)\n",
        "\n",
        "A_2 = np.random.randn(3,2)\n",
        "W2 = np.random.randn(1,3)\n",
        "A2 = np.random.randn(1,2)\n",
        "cache_2 = (A_2, W2, A2)\n",
        "\n",
        "grads=backward(AL, Y, [cache_1, cache_2])\n",
        "\n",
        "grads['dW1']\n",
        "assert grads['dW1'].shape==(3,4), \"dW1. Wrong size\"\n",
        "assert np.all(np.isclose(grads['dW1'], [[-0.00100175, -0.09968066, -0.03909226, -0.02330927],\n",
        "                                       [ 0.96094749, -0.67576359, -0.01117241,  0.04711791],\n",
        "                                       [ 0.02755101,  0.0423293 ,  0.02371575,  0.01564826]])), \"dW1. Wrong values\"\n",
        "grads['db1']\n",
        "assert grads['db1'].shape==(3,1), \"db1. Wrong size\"\n",
        "assert np.all(np.isclose(grads['db1'],  [[ 0.35434572],[ 2.53806384],[-0.14666465]])), \"db1. Wrong values\""
      ]
    },
    {
      "cell_type": "code",
      "execution_count": null,
      "id": "030e26ed-0099-4539-b692-df122bf8fd24",
      "metadata": {
        "id": "030e26ed-0099-4539-b692-df122bf8fd24"
      },
      "outputs": [],
      "source": [
        "def update_parameters(parameters,grads, learning_rate):\n",
        "    L= len(parameters)//2\n",
        "    for l in range(L):\n",
        "        parameters['W'+str(l+1)]= parameters['W'+str(l+1)]-learning_rate*grads['dW'+str(l+1)]\n",
        "        parameters['b'+str(l+1)]= parameters['b'+str(l+1)]-learning_rate*grads['db'+str(l+1)]\n",
        "    return parameters"
      ]
    },
    {
      "cell_type": "code",
      "execution_count": null,
      "id": "f7393a81",
      "metadata": {
        "id": "f7393a81",
        "outputId": "b53280fe-72ff-49ec-b5de-c22decc720e5",
        "colab": {
          "base_uri": "https://localhost:8080/",
          "height": 122
        }
      },
      "outputs": [
        {
          "output_type": "execute_result",
          "data": {
            "text/plain": [
              "'Testing update_parameters (DeepLearningSpecializationCoursera)'"
            ],
            "application/vnd.google.colaboratory.intrinsic+json": {
              "type": "string"
            }
          },
          "metadata": {},
          "execution_count": 23
        },
        {
          "output_type": "execute_result",
          "data": {
            "text/plain": [
              "array([[-0.59562069, -0.09991781, -2.14584584,  1.82662008],\n",
              "       [-1.76569676, -0.80627147,  0.51115557, -1.18258802],\n",
              "       [-1.0535704 , -0.86128581,  0.68284052,  2.20374577]])"
            ]
          },
          "metadata": {},
          "execution_count": 23
        },
        {
          "output_type": "execute_result",
          "data": {
            "text/plain": [
              "array([[-0.04659241],\n",
              "       [-1.28888275],\n",
              "       [ 0.53405496]])"
            ]
          },
          "metadata": {},
          "execution_count": 23
        },
        {
          "output_type": "execute_result",
          "data": {
            "text/plain": [
              "array([[-0.55569196,  0.0354055 ,  1.32964895]])"
            ]
          },
          "metadata": {},
          "execution_count": 23
        },
        {
          "output_type": "execute_result",
          "data": {
            "text/plain": [
              "array([[-0.84610769]])"
            ]
          },
          "metadata": {},
          "execution_count": 23
        }
      ],
      "source": [
        "'Testing update_parameters (DeepLearningSpecializationCoursera)'\n",
        "np.random.seed(2)\n",
        "parameters={}\n",
        "parameters['W1'] = np.random.randn(3,4)\n",
        "parameters['b1'] = np.random.randn(3,1)\n",
        "parameters['W2'] = np.random.randn(1,3)\n",
        "parameters['b2'] = np.random.randn(1,1)\n",
        "np.random.seed(3)\n",
        "grads={}\n",
        "grads['dW1'] = np.random.randn(3,4)\n",
        "grads['db1'] = np.random.randn(3,1)\n",
        "grads['dW2'] = np.random.randn(1,3)\n",
        "grads['db2'] = np.random.randn(1,1)\n",
        "\n",
        "parameters=update_parameters(parameters, grads, 0.1)\n",
        "parameters['W1']\n",
        "assert parameters['W1'].shape==(3,4), \"W1. Wrong size\"\n",
        "assert np.all(np.isclose(parameters['W1'], [[-0.59562069, -0.09991781, -2.14584584,  1.82662008],\n",
        "                                            [-1.76569676, -0.80627147,  0.51115557, -1.18258802],\n",
        "                                            [-1.0535704,  -0.86128581,  0.68284052,  2.20374577]])), \"W1. Wrong values\"\n",
        "parameters['b1']\n",
        "assert parameters['b1'].shape==(3,1), \"b1. Wrong size\"\n",
        "assert np.all(np.isclose(parameters['b1'],  [[-0.04659241],[-1.28888275],[ 0.53405496]])), \"b1. Wrong values\"\n",
        "parameters['W2']\n",
        "assert parameters['W2'].shape==(1,3), \"W2. Wrong size\"\n",
        "assert np.all(np.isclose(parameters['W2'], [[-0.55569196,  0.0354055,   1.32964895]])), \"W2. Wrong values\"\n",
        "parameters['b2']\n",
        "assert parameters['b2'].shape==(1,1), \"b2. Wrong size\"\n",
        "assert np.all(np.isclose(parameters['b2'], [[-0.84610769]])), \"b2. Wrong values\""
      ]
    },
    {
      "cell_type": "code",
      "execution_count": null,
      "id": "68c1dcac-0e3c-4210-8b83-55647b5eda1b",
      "metadata": {
        "id": "68c1dcac-0e3c-4210-8b83-55647b5eda1b"
      },
      "outputs": [],
      "source": [
        "def train(X,Y,layers,learning_rate,iterations,print_cost):\n",
        "    parameters = initialize_parameters(layers)\n",
        "    costs = []\n",
        "    for i in range(iterations):\n",
        "        Yp, caches = forward(X,parameters)\n",
        "        gradients = backward(Yp,Y,caches)\n",
        "        parameters = update_parameters(parameters,gradients,learning_rate)\n",
        "        if i % print_cost == 0:\n",
        "            costs.append(cost(Yp,Y))\n",
        "            print(cost(Yp,Y))\n",
        "    return parameters\n"
      ]
    },
    {
      "cell_type": "code",
      "execution_count": null,
      "id": "b64ded1b",
      "metadata": {
        "id": "b64ded1b",
        "outputId": "0f1650fb-1501-4a73-b5a1-933295c44ef3",
        "colab": {
          "base_uri": "https://localhost:8080/",
          "height": 209
        }
      },
      "outputs": [
        {
          "output_type": "execute_result",
          "data": {
            "text/plain": [
              "'Testing train'"
            ],
            "application/vnd.google.colaboratory.intrinsic+json": {
              "type": "string"
            }
          },
          "metadata": {},
          "execution_count": 66
        },
        {
          "output_type": "execute_result",
          "data": {
            "text/plain": [
              "array([[1., 1., 0., 0., 0., 0., 1., 1., 1., 0.]])"
            ]
          },
          "metadata": {},
          "execution_count": 66
        },
        {
          "output_type": "stream",
          "name": "stdout",
          "text": [
            "0.6971111842519754\n",
            "0.04940119511531576\n",
            "0.027827739537538643\n",
            "0.01943682597688961\n",
            "0.01496236736314804\n",
            "0.012177347230957883\n",
            "0.01027505056144247\n",
            "0.008892227706527586\n",
            "0.007841082684680666\n",
            "0.0070147063541887685\n"
          ]
        },
        {
          "output_type": "execute_result",
          "data": {
            "text/plain": [
              "array([[1, 1, 0, 0, 0, 0, 1, 1, 1, 0]])"
            ]
          },
          "metadata": {},
          "execution_count": 66
        }
      ],
      "source": [
        "'Testing train'\n",
        "np.random.seed(1)\n",
        "X=np.random.randn(2,10)\n",
        "Y=np.zeros((1,10))\n",
        "Y[0:]=(X[0,:]>X[1,:])\n",
        "Y\n",
        "parameters=train(X, Y, [2,1], 0.1, 100000, 10000)\n",
        "np.where(predict(X,parameters)> 0.6, 1, 0)\n",
        "assert np.all(np.isclose(np.where(predict(X,parameters)> 0.6, 1, 0), [[1, 1, 0, 0, 0, 0, 1, 1, 1, 0]])), \"Wrong values\""
      ]
    },
    {
      "cell_type": "markdown",
      "source": [
        "# Advertencia de train\n",
        "Subir el archivo de iris.data a archivos de colab\n"
      ],
      "metadata": {
        "id": "gR3jK7N__fTi"
      },
      "id": "gR3jK7N__fTi"
    },
    {
      "cell_type": "code",
      "source": [
        "data = '/content/winequality-red.csv'\n",
        "\n",
        "data_general = np.genfromtxt(data, delimiter=';', dtype=float, usecols=range(10))\n",
        "\n",
        "X = data_general[1:400]\n",
        "X = np.append(X, data_general[600:982], axis=0)\n",
        "X = np.append(X, data_general[1200:1601], axis=0)\n",
        "X = X.T\n",
        "\n",
        "\n",
        "\n",
        "Y = np.genfromtxt(data, delimiter=';', dtype=float, usecols=11)\n",
        "rango_1 = Y[600:982]\n",
        "rango_2 = Y[1200:1601]\n",
        "Y = Y[1:400]\n",
        "Y = np.append(Y,rango_1)\n",
        "Y= np.append(Y, rango_2)\n",
        "Y /= 10\n",
        "\n",
        "\n",
        "#parameters = train(X, Y, [10,1,1], 0.1, 500000, 100000)\n",
        "parameters = train(X, Y, [10,3,2,1], 0.1, 500000, 100000)\n",
        "print(X.T)\n",
        "print(Y)\n",
        "print(parameters)\n",
        "print(len(parameters))\n",
        "print(len(Y))\n",
        "print(len(X.T))"
      ],
      "metadata": {
        "colab": {
          "base_uri": "https://localhost:8080/"
        },
        "id": "F-_CH1tQxS6z",
        "outputId": "48357a42-cec4-434c-8670-b39d527ad712"
      },
      "id": "F-_CH1tQxS6z",
      "execution_count": null,
      "outputs": [
        {
          "output_type": "stream",
          "name": "stdout",
          "text": [
            "0.6934865083897136\n",
            "0.6844924083070186\n",
            "0.6840929331587984\n",
            "0.6839935930830877\n",
            "0.683937960040277\n",
            "[[7.4     0.7     0.      ... 0.9978  3.51    0.56   ]\n",
            " [7.8     0.88    0.      ... 0.9968  3.2     0.68   ]\n",
            " [7.8     0.76    0.04    ... 0.997   3.26    0.65   ]\n",
            " ...\n",
            " [6.3     0.51    0.13    ... 0.99574 3.42    0.75   ]\n",
            " [5.9     0.645   0.12    ... 0.99547 3.57    0.71   ]\n",
            " [6.      0.31    0.47    ... 0.99549 3.39    0.66   ]]\n",
            "[0.5 0.5 0.5 ... 0.6 0.5 0.6]\n",
            "{'W1': array([[-0.03173829,  1.51629554, -0.09836954,  0.006892  ,  0.75341504,\n",
            "        -0.51749841,  0.17654397,  0.36481801,  0.17086946, -1.22480757],\n",
            "       [-0.01133186, -1.91085802,  0.13695813,  0.10263585, -2.08364836,\n",
            "         0.04966497, -0.04692787, -0.46876519,  0.18523795,  1.31641005],\n",
            "       [ 0.05147042, -1.02127163, -0.81872318,  0.08465481, -1.40256557,\n",
            "        -0.30926949,  0.12698272, -0.55634663,  0.06883461,  1.07571681]]), 'b1': array([[ 0.29757602],\n",
            "       [-0.36529077],\n",
            "       [-0.46013721]]), 'W2': array([[-0.68523172,  1.08766912,  0.40675521],\n",
            "       [-0.84325216,  1.96393533,  1.36609259]]), 'b2': array([[-0.29255368],\n",
            "       [-0.17166129]]), 'W3': array([[0.96321396, 2.00418634]]), 'b3': array([[-1.45080486]])}\n",
            "6\n",
            "1181\n",
            "1181\n"
          ]
        }
      ]
    },
    {
      "cell_type": "code",
      "source": [
        "data_general = np.genfromtxt(data, delimiter=';', dtype=float, usecols=range(10))\n",
        "\n",
        "X = data_general[400:600]\n",
        "\n",
        "X = np.append(X, data_general[982:1200], axis=0)\n",
        "\n",
        "X = X.T\n",
        "\n",
        "\n",
        "Y = np.genfromtxt(data, delimiter=';', dtype=float, usecols=11)\n",
        "rango_1 = Y[982:1200]\n",
        "\n",
        "Y = Y[400:600]\n",
        "Y = np.append(Y,rango_1)\n",
        "Y /= 10\n",
        "#print(len(X))\n",
        "#print(len(Y))\n",
        "#print(len(parameters))\n",
        "#print(parameters)\n",
        "\n",
        "result = accuracy(X,Y,parameters)\n",
        "\n",
        "#print (X)\n",
        "print(Y)\n",
        "print(predict(X,parameters)[0])\n",
        "print(result)"
      ],
      "metadata": {
        "colab": {
          "base_uri": "https://localhost:8080/"
        },
        "id": "3vKhJ8qx8Wk_",
        "outputId": "af6eb500-14fc-4480-cbbf-38b9c2192aef"
      },
      "id": "3vKhJ8qx8Wk_",
      "execution_count": null,
      "outputs": [
        {
          "output_type": "stream",
          "name": "stdout",
          "text": [
            "[0.5 0.5 0.6 0.6 0.6 0.5 0.6 0.6 0.7 0.6 0.4 0.6 0.5 0.5 0.7 0.5 0.5 0.6\n",
            " 0.5 0.6 0.5 0.7 0.7 0.5 0.7 0.5 0.7 0.6 0.6 0.5 0.6 0.7 0.5 0.6 0.5 0.6\n",
            " 0.5 0.6 0.6 0.6 0.5 0.8 0.6 0.7 0.7 0.7 0.6 0.5 0.5 0.6 0.6 0.6 0.6 0.6\n",
            " 0.7 0.5 0.8 0.5 0.5 0.7 0.3 0.6 0.5 0.5 0.5 0.6 0.5 0.6 0.6 0.6 0.5 0.5\n",
            " 0.6 0.6 0.5 0.6 0.5 0.5 0.6 0.5 0.6 0.5 0.8 0.5 0.5 0.6 0.5 0.5 0.6 0.7\n",
            " 0.6 0.6 0.7 0.7 0.6 0.6 0.8 0.6 0.5 0.8 0.6 0.6 0.7 0.7 0.7 0.7 0.7 0.7\n",
            " 0.6 0.6 0.7 0.5 0.6 0.6 0.7 0.7 0.5 0.6 0.3 0.6 0.5 0.6 0.5 0.5 0.5 0.5\n",
            " 0.5 0.5 0.6 0.6 0.5 0.6 0.5 0.5 0.6 0.6 0.6 0.5 0.6 0.7 0.5 0.5 0.6 0.5\n",
            " 0.6 0.6 0.5 0.6 0.6 0.6 0.6 0.6 0.6 0.6 0.5 0.5 0.5 0.6 0.5 0.6 0.6 0.5\n",
            " 0.5 0.5 0.6 0.6 0.5 0.6 0.6 0.6 0.6 0.6 0.6 0.5 0.4 0.6 0.6 0.4 0.5 0.5\n",
            " 0.6 0.5 0.5 0.5 0.7 0.7 0.6 0.7 0.5 0.8 0.7 0.5 0.6 0.5 0.5 0.5 0.5 0.6\n",
            " 0.6 0.6 0.5 0.6 0.6 0.5 0.6 0.7 0.5 0.5 0.6 0.5 0.5 0.6 0.5 0.5 0.6 0.7\n",
            " 0.7 0.6 0.6 0.7 0.7 0.7 0.7 0.5 0.7 0.7 0.7 0.7 0.5 0.7 0.6 0.5 0.6 0.6\n",
            " 0.6 0.7 0.6 0.6 0.5 0.6 0.6 0.5 0.6 0.7 0.6 0.6 0.5 0.6 0.7 0.7 0.7 0.5\n",
            " 0.6 0.6 0.7 0.7 0.5 0.7 0.6 0.5 0.6 0.6 0.7 0.6 0.6 0.6 0.5 0.6 0.6 0.5\n",
            " 0.5 0.5 0.7 0.6 0.6 0.7 0.5 0.7 0.7 0.6 0.8 0.6 0.6 0.6 0.6 0.7 0.7 0.7\n",
            " 0.5 0.7 0.5 0.6 0.6 0.5 0.7 0.6 0.5 0.5 0.7 0.6 0.7 0.6 0.6 0.6 0.5 0.7\n",
            " 0.6 0.7 0.7 0.8 0.6 0.6 0.7 0.6 0.5 0.6 0.5 0.7 0.5 0.6 0.6 0.6 0.6 0.6\n",
            " 0.5 0.6 0.7 0.5 0.6 0.6 0.7 0.6 0.6 0.6 0.6 0.6 0.6 0.6 0.5 0.8 0.6 0.6\n",
            " 0.6 0.4 0.7 0.6 0.6 0.5 0.6 0.6 0.5 0.7 0.7 0.7 0.6 0.6 0.6 0.5 0.6 0.6\n",
            " 0.6 0.6 0.6 0.5 0.6 0.6 0.7 0.6 0.6 0.7 0.6 0.5 0.6 0.6 0.5 0.7 0.7 0.6\n",
            " 0.5 0.7 0.6 0.7 0.5 0.5 0.5 0.5 0.7 0.6 0.6 0.6 0.6 0.6 0.6 0.6 0.6 0.4\n",
            " 0.7 0.5 0.6 0.6 0.5 0.6 0.5 0.5 0.6 0.5 0.6 0.5 0.4 0.6 0.5 0.7 0.5 0.6\n",
            " 0.6 0.6 0.6 0.6]\n",
            "[0.51949571 0.48698727 0.57964385 0.53146759 0.53173581 0.54912911\n",
            " 0.6142088  0.56128472 0.57829715 0.59291038 0.56352533 0.5301294\n",
            " 0.53003269 0.52339624 0.63429816 0.52038762 0.5212683  0.54604288\n",
            " 0.51931651 0.58847105 0.52732227 0.52832079 0.52059786 0.50629826\n",
            " 0.62575224 0.50629826 0.52059786 0.50691228 0.51774697 0.52850348\n",
            " 0.48334902 0.62575224 0.51795657 0.59598294 0.54862439 0.60673387\n",
            " 0.54862439 0.51676155 0.56621122 0.60673387 0.5327204  0.58975078\n",
            " 0.56521276 0.53782266 0.59554367 0.56618239 0.52270164 0.57177057\n",
            " 0.56505553 0.52836449 0.57976844 0.57976844 0.56080338 0.55618112\n",
            " 0.59276501 0.55335104 0.55956748 0.52678145 0.53206478 0.59276501\n",
            " 0.53033334 0.59022366 0.52810018 0.5989772  0.51928407 0.60003011\n",
            " 0.64237306 0.56593367 0.59552278 0.56483063 0.52097117 0.55949391\n",
            " 0.55330638 0.59307855 0.61393193 0.63690634 0.5285898  0.6104732\n",
            " 0.65583487 0.5285898  0.54043102 0.68300523 0.64081128 0.62741376\n",
            " 0.635264   0.56445373 0.49745184 0.49745184 0.49631996 0.57297004\n",
            " 0.59814575 0.52722865 0.61483958 0.63127805 0.52409139 0.5444404\n",
            " 0.58991363 0.5400221  0.59726244 0.58991363 0.52409139 0.5400221\n",
            " 0.56475222 0.56475222 0.63647666 0.64809171 0.58089706 0.64809338\n",
            " 0.54174755 0.54249202 0.59024422 0.59147059 0.54249202 0.55740119\n",
            " 0.55210646 0.55210646 0.5202106  0.5742812  0.50353943 0.60978608\n",
            " 0.58533082 0.64752755 0.55131226 0.59232109 0.51997368 0.5214863\n",
            " 0.53241078 0.58533082 0.5782689  0.56186599 0.53367999 0.60331225\n",
            " 0.55141945 0.55141945 0.61367044 0.55111966 0.60331225 0.53367999\n",
            " 0.51320803 0.58610661 0.56847094 0.55381332 0.61347736 0.51162429\n",
            " 0.52841988 0.62194871 0.55541505 0.55812714 0.62165455 0.59482054\n",
            " 0.51863375 0.5386502  0.56005451 0.55786664 0.49305815 0.57413421\n",
            " 0.57413421 0.57829751 0.57440011 0.57829751 0.55208549 0.53225871\n",
            " 0.52093514 0.56316514 0.57633249 0.55208549 0.53225871 0.48696549\n",
            " 0.48696549 0.54110065 0.57093528 0.60177008 0.57093528 0.59600562\n",
            " 0.51693123 0.53796946 0.60240174 0.54379719 0.52148828 0.52132112\n",
            " 0.57747937 0.52586427 0.52586427 0.52433092 0.61463916 0.56243578\n",
            " 0.54686388 0.62178727 0.52044302 0.57164601 0.62646181 0.52767064\n",
            " 0.51890764 0.52767064 0.54317114 0.52703811 0.52463159 0.56112663\n",
            " 0.53207    0.53155436 0.49873477 0.5615955  0.58113541 0.57503995\n",
            " 0.56251696 0.58091938 0.52767263 0.57441356 0.59773054 0.57441356\n",
            " 0.54311479 0.55247769 0.54311479 0.52551247 0.54624578 0.52978094\n",
            " 0.52978094 0.46783591 0.52382106 0.60200741 0.58770816 0.63822926\n",
            " 0.58029069 0.54996967 0.58029069 0.63822926 0.63739642 0.61472448\n",
            " 0.55226625 0.60590663 0.60114294 0.44671582 0.54173848 0.52937429\n",
            " 0.61819716 0.60244215 0.54156517 0.54156517 0.55477477 0.56488603\n",
            " 0.56488603 0.55140311 0.57770727 0.56331841 0.50007251 0.57337114\n",
            " 0.51360353 0.54054829 0.56331841 0.55600212 0.56075478 0.50050656\n",
            " 0.55830989 0.49576084 0.58167505 0.59708588 0.47667699 0.6123734\n",
            " 0.58387067 0.50343956 0.5692677  0.58387067 0.66221094 0.55107967\n",
            " 0.58036282 0.53008642 0.55512326 0.57280074 0.57149145 0.55512326\n",
            " 0.57448633 0.56987452 0.62176429 0.52318561 0.52318561 0.56349821\n",
            " 0.5303648  0.54944629 0.56349821 0.62717258 0.58787584 0.57433334\n",
            " 0.59544738 0.51160728 0.52636663 0.58510284 0.63034608 0.63034608\n",
            " 0.53399469 0.61670334 0.52475168 0.54997851 0.52911503 0.52475168\n",
            " 0.58828794 0.61264586 0.6155499  0.6155499  0.51829385 0.58735294\n",
            " 0.51829088 0.55066563 0.55736595 0.55066563 0.5240811  0.62599227\n",
            " 0.62377278 0.57410614 0.57410614 0.5368848  0.58094113 0.57131191\n",
            " 0.61734542 0.52767694 0.54513935 0.52767694 0.51727578 0.58408624\n",
            " 0.51727578 0.60103178 0.57933851 0.56603689 0.57933851 0.58822596\n",
            " 0.52843003 0.61015774 0.63214372 0.4946843  0.56022897 0.55705279\n",
            " 0.5599475  0.56980014 0.59736186 0.56608271 0.55937852 0.55937852\n",
            " 0.55937852 0.58753063 0.52989291 0.57332758 0.57558058 0.57216948\n",
            " 0.5882871  0.54264237 0.60901016 0.57949057 0.52600601 0.53552274\n",
            " 0.55794695 0.55534877 0.53862888 0.61419328 0.61981902 0.6212104\n",
            " 0.58534113 0.58138454 0.58138454 0.53003859 0.52553602 0.55855971\n",
            " 0.57106578 0.59331382 0.6506883  0.54644501 0.60605075 0.56260951\n",
            " 0.59850131 0.5808278  0.58834445 0.62040323 0.53071801 0.51943358\n",
            " 0.57753781 0.55767499 0.51943358 0.53895206 0.52430033 0.63584999\n",
            " 0.55094074 0.58583483 0.59637508 0.62389953 0.51495084 0.51495084\n",
            " 0.56807967 0.53799914 0.59742425 0.5545736  0.55197879 0.59611874\n",
            " 0.55061265 0.58489812 0.56684476 0.56684476 0.5621692  0.51964519\n",
            " 0.55461835 0.52283674 0.56585823 0.56585823 0.55584376 0.59913111\n",
            " 0.52126879 0.51944591 0.54169225 0.54075305 0.54169225 0.51944591\n",
            " 0.4641752  0.57656467 0.46167395 0.59234638 0.46144953 0.51973068\n",
            " 0.54565545 0.52264848 0.52808136 0.54310721]\n",
            "0.9760765550239234\n"
          ]
        }
      ]
    },
    {
      "cell_type": "markdown",
      "id": "7bd9ebdc-0f95-4cba-bae6-06abfd802e15",
      "metadata": {
        "id": "7bd9ebdc-0f95-4cba-bae6-06abfd802e15"
      },
      "source": [
        "# Retrospectiva"
      ]
    },
    {
      "cell_type": "markdown",
      "id": "e2d5af14-5af2-47db-a392-690422a330cf",
      "metadata": {
        "id": "e2d5af14-5af2-47db-a392-690422a330cf"
      },
      "source": [
        "1.¿ Cuál fue el tiempo total invertido en el laboratorio por cada uno de ustedes?\n",
        "    Castaño/9; Mesa/8\n",
        "2. ¿Cuál es el estado actual del laboratorio? ¿Por qué?\n",
        "En estos momentos, lo único que falto del laboratorio fue colocar las derivadas de las formulas usadas  ya que, al momento de enredarnos haciendo la función backward, entregamos el laboratorio sobre el tiempo.\n",
        "3. ¿Cuál consideran fue el mayor logro? ¿Por qué?\n",
        "Poder realizar todas las funciones debido a que en cierto punto fue dificil pasar las formulas a codigo.\n",
        "4. ¿Cuál fue el mayor problema tecnico?\n",
        "Realizar la función b"
      ]
    }
  ],
  "metadata": {
    "colab": {
      "provenance": []
    },
    "kernelspec": {
      "display_name": "Python 3 (ipykernel)",
      "language": "python",
      "name": "python3"
    },
    "language_info": {
      "codemirror_mode": {
        "name": "ipython",
        "version": 3
      },
      "file_extension": ".py",
      "mimetype": "text/x-python",
      "name": "python",
      "nbconvert_exporter": "python",
      "pygments_lexer": "ipython3",
      "version": "3.11.5"
    }
  },
  "nbformat": 4,
  "nbformat_minor": 5
}